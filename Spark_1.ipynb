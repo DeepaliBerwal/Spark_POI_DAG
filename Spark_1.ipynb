{
 "cells": [
  {
   "cell_type": "code",
   "execution_count": 252,
   "id": "27208aad",
   "metadata": {},
   "outputs": [],
   "source": [
    "import pyspark.sql as sq\n",
    "from pyspark.sql.functions import *\n",
    "import os\n",
    "import pandas as pd\n",
    "import numpy as np\n",
    "\n",
    "import matplotlib.pyplot as plt"
   ]
  },
  {
   "cell_type": "code",
   "execution_count": 253,
   "id": "212398c4",
   "metadata": {},
   "outputs": [],
   "source": [
    "spark = sq.SparkSession.builder.master(\"local\").appName(\"my app\").config(\"spark.some.config.option\", \"some-value\").getOrCreate()\n",
    "\n",
    "path = '/home/jovyan/work/Data'\n",
    "\n",
    "\n",
    "poi = spark.read.csv(os.path.join(path,\"POIList.csv\"),header = True,inferSchema = True)\n",
    "data = spark.read.csv(os.path.join(path,\"DataSample.csv\"),header = True,inferSchema = True)\n"
   ]
  },
  {
   "cell_type": "raw",
   "id": "a49788d1",
   "metadata": {},
   "source": [
    "# Cleaning data by finding suspicious IDs"
   ]
  },
  {
   "cell_type": "code",
   "execution_count": 254,
   "id": "8c6fa54b",
   "metadata": {},
   "outputs": [],
   "source": [
    "data_aa = (data.groupBy([' TimeSt', 'Latitude', 'Longitude']).agg(collect_list(\"_ID\").alias(\"_ID2\")).where(size(\"_ID2\") > 1)).select(explode(\"_ID2\").alias(\"_ID\"))\n",
    "data = data.join(data_aa, data._ID == data_aa._ID, \"left_anti\").drop(data_aa._ID) "
   ]
  },
  {
   "cell_type": "raw",
   "id": "19a00cbc",
   "metadata": {},
   "source": [
    "# POI have duplicate data for Latitude and Longitude. Removing the duplicate entry"
   ]
  },
  {
   "cell_type": "code",
   "execution_count": 255,
   "id": "853f9eff",
   "metadata": {},
   "outputs": [],
   "source": [
    "poi = poi.where(\"POIID != 'POI1'\")"
   ]
  },
  {
   "cell_type": "raw",
   "id": "3a1e98e5",
   "metadata": {},
   "source": [
    "# Calculating Distance using haversine formula where R is the radius of Earth in Kilometer"
   ]
  },
  {
   "cell_type": "code",
   "execution_count": 256,
   "id": "5caab8f4",
   "metadata": {},
   "outputs": [],
   "source": [
    "poi = poi.select('POIID',col(\" Latitude\").alias(\"poiLatitude\"), col(\"Longitude\").alias(\"poiLongitude\"))\n",
    "data = data.crossJoin(poi)"
   ]
  },
  {
   "cell_type": "code",
   "execution_count": 257,
   "id": "e0e07395",
   "metadata": {},
   "outputs": [],
   "source": [
    "def hav_dist (lat1, lon1, lat2, lon2):\n",
    "    R = 6371\n",
    "    lon1 = toRadians(lon1)\n",
    "    lat1 = toRadians(lat1)\n",
    "    lon2 = toRadians(lon2)\n",
    "    lat2 = toRadians(lat2)\n",
    "    d_lon = lon2 - lon1\n",
    "    d_lat = lat2 - lat1\n",
    "    a = sin(d_lat/2) ** 2 + cos(lat1) * cos(lat2) * sin(d_lon/2) ** 2\n",
    "    c = 2 * asin(sqrt(a))\n",
    "    Z = R * c\n",
    "    return Z\n"
   ]
  },
  {
   "cell_type": "code",
   "execution_count": 258,
   "id": "b6a47cc4",
   "metadata": {},
   "outputs": [],
   "source": [
    "data1 = data.withColumn(\"Poidistance\", hav_dist(data['Latitude'],data['Longitude'], data['poiLatitude'],data['poiLongitude']))"
   ]
  },
  {
   "cell_type": "code",
   "execution_count": 261,
   "id": "7f85f5be",
   "metadata": {},
   "outputs": [],
   "source": [
    "data2 = data1.groupBy('_ID').min('Poidistance')\n",
    "data_Final = data1.join(data2,(data1['_ID'] == data2['_ID']) & (data1['Poidistance'] == data2['min(Poidistance)'])).drop(data2._ID)\n",
    "\n",
    "# To view table\n",
    "#df=data_Final.toPandas()\n",
    "#print(df)"
   ]
  },
  {
   "cell_type": "raw",
   "id": "e0876c7f",
   "metadata": {},
   "source": [
    "# Calculate the average and standard deviation of the distance between the POI to each of its assigned requests.    "
   ]
  },
  {
   "cell_type": "code",
   "execution_count": 264,
   "id": "aff52361",
   "metadata": {},
   "outputs": [
    {
     "name": "stdout",
     "output_type": "stream",
     "text": [
      "+-----+------------------+------------------+\n",
      "|POIID|           Average|Standard Deviation|\n",
      "+-----+------------------+------------------+\n",
      "| POI4| 514.9971719812205|1506.8899707703229|\n",
      "| POI2| 300.7147475686839| 388.2733852635426|\n",
      "| POI3|451.65114920151376| 223.6317418310286|\n",
      "+-----+------------------+------------------+\n",
      "\n"
     ]
    }
   ],
   "source": [
    "Avg_Std = data_Final.groupBy('POIID').agg(avg(\"min(Poidistance)\").alias('Average'), stddev(\"min(Poidistance)\").alias('Standard Deviation'))\n",
    "Avg_Std.show()\n"
   ]
  },
  {
   "cell_type": "raw",
   "id": "00f2a566",
   "metadata": {},
   "source": [
    "# Calculating the Radius and Density for each POI"
   ]
  },
  {
   "cell_type": "code",
   "execution_count": 265,
   "id": "3ac35719",
   "metadata": {
    "scrolled": true
   },
   "outputs": [
    {
     "name": "stdout",
     "output_type": "stream",
     "text": [
      "+-----+------------------+-----+--------------------+\n",
      "|POIID|            Radius|Count|             density|\n",
      "+-----+------------------+-----+--------------------+\n",
      "| POI4| 9349.572770487368|  422|1.536664455904176...|\n",
      "| POI2|11531.820831836454| 8749|2.094174038984837...|\n",
      "| POI3|1474.5809620285695| 8802|0.001288529145748...|\n",
      "+-----+------------------+-----+--------------------+\n",
      "\n"
     ]
    }
   ],
   "source": [
    "Radius = data_Final.groupBy('POIID').agg(max(\"min(Poidistance)\").alias('Radius'), count(\"min(Poidistance)\").alias('Count'))\n",
    "Density = Radius.withColumn('density',Radius['Count'] / (Radius['Radius'] ** 2 * np.pi))\n",
    "Density.show()"
   ]
  },
  {
   "cell_type": "code",
   "execution_count": 242,
   "id": "0f140285",
   "metadata": {},
   "outputs": [],
   "source": [
    "#Removing outliers if any to be more sensitive around the Average"
   ]
  },
  {
   "cell_type": "code",
   "execution_count": 273,
   "id": "435709ae",
   "metadata": {},
   "outputs": [
    {
     "name": "stdout",
     "output_type": "stream",
     "text": [
      "+-----+-----------------+------------------+\n",
      "|POIID|              AVG|               STD|\n",
      "+-----+-----------------+------------------+\n",
      "| POI4|242.9136013544121|229.16911490167877|\n",
      "| POI2|256.2837722293357|223.29841086593186|\n",
      "| POI3|435.6164567176206|  194.967417289931|\n",
      "+-----+-----------------+------------------+\n",
      "\n",
      "+-----+-----------------+-----+--------------------+\n",
      "|POIID|           Radius|Count|             density|\n",
      "+-----+-----------------+-----+--------------------+\n",
      "| POI4|855.2562887218603|  408|1.775487985779238...|\n",
      "| POI2|856.2474702903709| 8365|0.003631762749097...|\n",
      "| POI3|845.6750365816498| 8627|0.003839749597973...|\n",
      "+-----+-----------------+-----+--------------------+\n",
      "\n"
     ]
    }
   ],
   "source": [
    "Quan1=data.approxQuantile(\"min(Poidistance)\", [0.30], 0.05)\n",
    "Quan3=data.approxQuantile(\"min(Poidistance)\", [0.70], 0.05)\n",
    "IQR = Quan3[0] - Quan1[0]\n",
    "lowerRange = Quan1[0] - 1.5*IQR\n",
    "upperRange = Quan3[0] + 1.5*IQR\n",
    "\n",
    "Avg_Std2=data_Final[(data_Final['min(Poidistance)']>lowerRange) & (data_Final['min(Poidistance)']<upperRange)].groupBy('POIID').agg(avg(\"min(Poidistance)\").alias('AVG'), stddev(\"min(Poidistance)\").alias('STD'))\n",
    "Avg_Std2.show()\n",
    "\n",
    "Radius2=data_Final[(data_Final['min(Poidistance)']>lowerRange) & (data_Final['min(Poidistance)']<upperRange)].groupBy('POIID').agg(max(\"min(Poidistance)\").alias('Radius'), count(\"min(Poidistance)\").alias('Count'))\n",
    "Density2=Radius2.withColumn('density',Radius2['Count']/(Radius2['Radius']**2*np.pi))\n",
    "Density2.show()"
   ]
  },
  {
   "cell_type": "code",
   "execution_count": 276,
   "id": "e870da32",
   "metadata": {},
   "outputs": [
    {
     "data": {
      "text/html": [
       "<div>\n",
       "<style scoped>\n",
       "    .dataframe tbody tr th:only-of-type {\n",
       "        vertical-align: middle;\n",
       "    }\n",
       "\n",
       "    .dataframe tbody tr th {\n",
       "        vertical-align: top;\n",
       "    }\n",
       "\n",
       "    .dataframe thead th {\n",
       "        text-align: right;\n",
       "    }\n",
       "</style>\n",
       "<table border=\"1\" class=\"dataframe\">\n",
       "  <thead>\n",
       "    <tr style=\"text-align: right;\">\n",
       "      <th></th>\n",
       "      <th>POIID</th>\n",
       "      <th>Radius</th>\n",
       "      <th>Count</th>\n",
       "      <th>density</th>\n",
       "      <th>density_Final</th>\n",
       "    </tr>\n",
       "  </thead>\n",
       "  <tbody>\n",
       "    <tr>\n",
       "      <th>0</th>\n",
       "      <td>POI4</td>\n",
       "      <td>9349.572770</td>\n",
       "      <td>422</td>\n",
       "      <td>0.000002</td>\n",
       "      <td>-10.000000</td>\n",
       "    </tr>\n",
       "    <tr>\n",
       "      <th>1</th>\n",
       "      <td>POI2</td>\n",
       "      <td>11531.820832</td>\n",
       "      <td>8749</td>\n",
       "      <td>0.000021</td>\n",
       "      <td>-9.698443</td>\n",
       "    </tr>\n",
       "    <tr>\n",
       "      <th>2</th>\n",
       "      <td>POI3</td>\n",
       "      <td>1474.580962</td>\n",
       "      <td>8802</td>\n",
       "      <td>0.001289</td>\n",
       "      <td>10.000000</td>\n",
       "    </tr>\n",
       "  </tbody>\n",
       "</table>\n",
       "</div>"
      ],
      "text/plain": [
       "  POIID        Radius  Count   density  density_Final\n",
       "0  POI4   9349.572770    422  0.000002     -10.000000\n",
       "1  POI2  11531.820832   8749  0.000021      -9.698443\n",
       "2  POI3   1474.580962   8802  0.001289      10.000000"
      ]
     },
     "execution_count": 276,
     "metadata": {},
     "output_type": "execute_result"
    }
   ],
   "source": [
    "AD = Density.toPandas() \n",
    "minn = np.min(AD['density'])\n",
    "maxx = np.max(AD['density'])\n",
    "AD['density_Final']=20*(AD['density']-minn)/(maxx-minn)-10\n",
    "AD"
   ]
  },
  {
   "cell_type": "code",
   "execution_count": null,
   "id": "15138f2d",
   "metadata": {},
   "outputs": [],
   "source": []
  }
 ],
 "metadata": {
  "kernelspec": {
   "display_name": "Python 3",
   "language": "python",
   "name": "python3"
  },
  "language_info": {
   "codemirror_mode": {
    "name": "ipython",
    "version": 3
   },
   "file_extension": ".py",
   "mimetype": "text/x-python",
   "name": "python",
   "nbconvert_exporter": "python",
   "pygments_lexer": "ipython3",
   "version": "3.9.4"
  }
 },
 "nbformat": 4,
 "nbformat_minor": 5
}
